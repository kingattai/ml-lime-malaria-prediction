{
  "nbformat": 4,
  "nbformat_minor": 0,
  "metadata": {
    "colab": {
      "provenance": [],
      "authorship_tag": "ABX9TyMtBIdFYijLp5q5lwh5BlBB",
      "include_colab_link": true
    },
    "kernelspec": {
      "name": "python3",
      "display_name": "Python 3"
    },
    "language_info": {
      "name": "python"
    }
  },
  "cells": [
    {
      "cell_type": "markdown",
      "metadata": {
        "id": "view-in-github",
        "colab_type": "text"
      },
      "source": [
        "<a href=\"https://colab.research.google.com/github/kingattai/ml-lime-malaria-prediction/blob/main/RF_Conference_MAL_with_RiskFactors.ipynb\" target=\"_parent\"><img src=\"https://colab.research.google.com/assets/colab-badge.svg\" alt=\"Open In Colab\"/></a>"
      ]
    },
    {
      "cell_type": "code",
      "execution_count": null,
      "metadata": {
        "colab": {
          "base_uri": "https://localhost:8080/"
        },
        "id": "dTR4_H5YM4Z1",
        "outputId": "a621819e-e998-4c7f-9cff-0786a810322a"
      },
      "outputs": [
        {
          "output_type": "stream",
          "name": "stdout",
          "text": [
            "Collecting treeinterpreter\n",
            "  Downloading treeinterpreter-0.2.3-py2.py3-none-any.whl.metadata (2.0 kB)\n",
            "Downloading treeinterpreter-0.2.3-py2.py3-none-any.whl (6.0 kB)\n",
            "Installing collected packages: treeinterpreter\n",
            "Successfully installed treeinterpreter-0.2.3\n"
          ]
        }
      ],
      "source": [
        "!pip install treeinterpreter"
      ]
    },
    {
      "cell_type": "code",
      "source": [
        "!pip install imbalanced-learn"
      ],
      "metadata": {
        "colab": {
          "base_uri": "https://localhost:8080/"
        },
        "id": "9OkjlDL6No9Y",
        "outputId": "b72a6b92-62a4-4855-d91b-7bf443ef783c"
      },
      "execution_count": null,
      "outputs": [
        {
          "output_type": "stream",
          "name": "stdout",
          "text": [
            "Requirement already satisfied: imbalanced-learn in /usr/local/lib/python3.11/dist-packages (0.13.0)\n",
            "Requirement already satisfied: numpy<3,>=1.24.3 in /usr/local/lib/python3.11/dist-packages (from imbalanced-learn) (2.0.2)\n",
            "Requirement already satisfied: scipy<2,>=1.10.1 in /usr/local/lib/python3.11/dist-packages (from imbalanced-learn) (1.15.3)\n",
            "Requirement already satisfied: scikit-learn<2,>=1.3.2 in /usr/local/lib/python3.11/dist-packages (from imbalanced-learn) (1.6.1)\n",
            "Requirement already satisfied: sklearn-compat<1,>=0.1 in /usr/local/lib/python3.11/dist-packages (from imbalanced-learn) (0.1.3)\n",
            "Requirement already satisfied: joblib<2,>=1.1.1 in /usr/local/lib/python3.11/dist-packages (from imbalanced-learn) (1.5.1)\n",
            "Requirement already satisfied: threadpoolctl<4,>=2.0.0 in /usr/local/lib/python3.11/dist-packages (from imbalanced-learn) (3.6.0)\n"
          ]
        }
      ]
    },
    {
      "cell_type": "code",
      "source": [
        "import pandas as pd\n",
        "import numpy as np\n",
        "import seaborn as sns\n",
        "import matplotlib.pyplot as plt\n",
        "\n",
        "from sklearn.model_selection import train_test_split, GridSearchCV\n",
        "from sklearn.ensemble import RandomForestClassifier\n",
        "from sklearn.metrics import (accuracy_score, precision_score, recall_score,\n",
        "                             f1_score, log_loss, classification_report,\n",
        "                             confusion_matrix, roc_auc_score)\n",
        "from sklearn.impute import SimpleImputer\n",
        "from imblearn.over_sampling import SMOTE"
      ],
      "metadata": {
        "id": "u4YY0Fy7NpKK"
      },
      "execution_count": null,
      "outputs": []
    },
    {
      "cell_type": "code",
      "source": [
        "# Mount Google Drive\n",
        "from google.colab import drive\n",
        "drive.mount('/content/drive')"
      ],
      "metadata": {
        "colab": {
          "base_uri": "https://localhost:8080/"
        },
        "id": "ouv9DG8rM5e0",
        "outputId": "e61c6343-c486-4083-ef13-0c07916c179e"
      },
      "execution_count": null,
      "outputs": [
        {
          "output_type": "stream",
          "name": "stdout",
          "text": [
            "Mounted at /content/drive\n"
          ]
        }
      ]
    },
    {
      "cell_type": "code",
      "source": [
        "# 1. Load dataset\n",
        "df = pd.read_csv('/content/drive/My Drive/Colab Notebooks/NFRF ML/Mal_Data.csv')\n",
        "df2 = df.drop(df.columns[0], axis=1)  # Drop first index/ID column"
      ],
      "metadata": {
        "id": "pIBrDothM87N"
      },
      "execution_count": null,
      "outputs": []
    },
    {
      "cell_type": "code",
      "source": [
        "# 3. Split into features and target\n",
        "X = df2.iloc[:, :-1].values\n",
        "y = df2.iloc[:, -1].values"
      ],
      "metadata": {
        "id": "S6s8SHpWc1g_"
      },
      "execution_count": null,
      "outputs": []
    },
    {
      "cell_type": "code",
      "source": [
        "# 4. Train-test split\n",
        "X_train, X_test, y_train, y_test = train_test_split(X, y, test_size=0.2, random_state=42)"
      ],
      "metadata": {
        "id": "PihZ1jkrc1z6"
      },
      "execution_count": null,
      "outputs": []
    },
    {
      "cell_type": "code",
      "source": [
        "# Apply SMOTE\n",
        "smote = SMOTE(random_state=42)\n",
        "X_train_smote, y_train_smote = smote.fit_resample(X_train, y_train)\n",
        "print(\"Class distribution after SMOTE:\", np.bincount(y_train_smote))"
      ],
      "metadata": {
        "colab": {
          "base_uri": "https://localhost:8080/"
        },
        "id": "ScMI6Or4ZZob",
        "outputId": "60262bcf-d496-493a-920f-403170390051"
      },
      "execution_count": null,
      "outputs": [
        {
          "output_type": "stream",
          "name": "stdout",
          "text": [
            "Class distribution after SMOTE: [2699 2699]\n"
          ]
        }
      ]
    },
    {
      "cell_type": "code",
      "source": [
        "# Random Forest with Grid Search\n",
        "rf = RandomForestClassifier(random_state=42)\n",
        "param_grid_rf = {'n_estimators': [100, 200], 'max_depth': [None, 10]}\n",
        "grid_search_rf = GridSearchCV(rf, param_grid_rf, cv=5, scoring='accuracy', n_jobs=-1)\n",
        "grid_search_rf.fit(X_train_smote, y_train_smote)\n",
        "best_rf_model = grid_search_rf.best_estimator_"
      ],
      "metadata": {
        "id": "RmJvwtnFM9CU"
      },
      "execution_count": null,
      "outputs": []
    },
    {
      "cell_type": "code",
      "source": [
        "# Prediction and Evaluation\n",
        "y_pred_rf = best_rf_model.predict(X_test)\n",
        "y_prob_rf = best_rf_model.predict_proba(X_test)\n",
        "print(\"Best parameters:\", grid_search_rf.best_params_)\n",
        "print(\"\\nClassification Report:\\n\", classification_report(y_test, y_pred_rf))\n",
        "print(f\"Accuracy: {accuracy_score(y_test, y_pred_rf):.4f}\")\n",
        "print(f\"Precision: {precision_score(y_test, y_pred_rf, average='weighted'):.4f}\")\n",
        "print(f\"Recall: {recall_score(y_test, y_pred_rf, average='weighted'):.4f}\")\n",
        "print(f\"F1 Score: {f1_score(y_test, y_pred_rf, average='weighted'):.4f}\")\n",
        "print(f\"Log Loss: {log_loss(y_test, y_prob_rf):.4f}\")\n",
        "if len(np.unique(y_test)) == 2:\n",
        "    print(f\"AUC-ROC: {roc_auc_score(y_test, y_prob_rf[:, 1]):.4f}\")"
      ],
      "metadata": {
        "id": "KkhsYICXM9E_",
        "colab": {
          "base_uri": "https://localhost:8080/"
        },
        "outputId": "1d647ed0-5f6b-4204-faa0-2ad58c10fefd"
      },
      "execution_count": null,
      "outputs": [
        {
          "output_type": "stream",
          "name": "stdout",
          "text": [
            "Best parameters: {'max_depth': None, 'n_estimators': 100}\n",
            "\n",
            "Classification Report:\n",
            "               precision    recall  f1-score   support\n",
            "\n",
            "           0       0.76      0.73      0.74       323\n",
            "           1       0.87      0.88      0.88       651\n",
            "\n",
            "    accuracy                           0.83       974\n",
            "   macro avg       0.81      0.81      0.81       974\n",
            "weighted avg       0.83      0.83      0.83       974\n",
            "\n",
            "Accuracy: 0.8316\n",
            "Precision: 0.8302\n",
            "Recall: 0.8316\n",
            "F1 Score: 0.8308\n",
            "Log Loss: 0.4849\n",
            "AUC-ROC: 0.8801\n"
          ]
        }
      ]
    },
    {
      "cell_type": "code",
      "source": [
        "# Confusion Matrix\n",
        "sns.heatmap(confusion_matrix(y_test, y_pred_rf), annot=True, fmt='d', cmap='Blues')\n",
        "plt.xlabel('Predicted'); plt.ylabel('Actual'); plt.title('Random Forest Confusion Matrix')\n",
        "plt.show()"
      ],
      "metadata": {
        "id": "hl73i8HKNKn_",
        "colab": {
          "base_uri": "https://localhost:8080/",
          "height": 472
        },
        "outputId": "e91d1df7-3b97-48bc-8962-5f36318e5e2a"
      },
      "execution_count": null,
      "outputs": [
        {
          "output_type": "display_data",
          "data": {
            "text/plain": [
              "<Figure size 640x480 with 2 Axes>"
            ],
            "image/png": "[encoded data removed]"
          },
          "metadata": {}
        }
      ]
    },
    {
      "cell_type": "code",
      "source": [
        "from treeinterpreter import treeinterpreter as ti\n",
        "from sklearn.inspection import PartialDependenceDisplay"
      ],
      "metadata": {
        "id": "_rBSWI7gPKhO"
      },
      "execution_count": null,
      "outputs": []
    },
    {
      "cell_type": "code",
      "source": [
        "# TreeInterpreter\n",
        "instance = X_test[0:1]\n",
        "prediction, bias, contributions = ti.predict(best_rf_model, instance)\n",
        "print(\"\\n🌳 TreeInterpreter (Instance 0)\")\n",
        "print(f\"Prediction: {prediction[0]}\")\n",
        "print(f\"Bias: {bias[0]}\")\n",
        "for i, c in enumerate(contributions[0]):\n",
        "    print(f\"Feature {i} contributions per class: {[round(val, 4) for val in c]}\")"
      ],
      "metadata": {
        "id": "1jHAIu98NKwn",
        "colab": {
          "base_uri": "https://localhost:8080/"
        },
        "outputId": "81e3a6ef-f855-434b-f90b-322435e2828c"
      },
      "execution_count": null,
      "outputs": [
        {
          "output_type": "stream",
          "name": "stdout",
          "text": [
            "\n",
            "🌳 TreeInterpreter (Instance 0)\n",
            "Prediction: [1. 0.]\n",
            "Bias: [0.50035939 0.49964061]\n",
            "Feature 0 contributions per class: [np.float64(0.053), np.float64(-0.053)]\n",
            "Feature 1 contributions per class: [np.float64(0.0474), np.float64(-0.0474)]\n",
            "Feature 2 contributions per class: [np.float64(0.0072), np.float64(-0.0072)]\n",
            "Feature 3 contributions per class: [np.float64(0.021), np.float64(-0.021)]\n",
            "Feature 4 contributions per class: [np.float64(0.1906), np.float64(-0.1906)]\n",
            "Feature 5 contributions per class: [np.float64(0.0187), np.float64(-0.0187)]\n",
            "Feature 6 contributions per class: [np.float64(0.0075), np.float64(-0.0075)]\n",
            "Feature 7 contributions per class: [np.float64(0.0285), np.float64(-0.0285)]\n",
            "Feature 8 contributions per class: [np.float64(0.0033), np.float64(-0.0033)]\n",
            "Feature 9 contributions per class: [np.float64(-0.0006), np.float64(0.0006)]\n",
            "Feature 10 contributions per class: [np.float64(0.0128), np.float64(-0.0128)]\n",
            "Feature 11 contributions per class: [np.float64(-0.0008), np.float64(0.0008)]\n",
            "Feature 12 contributions per class: [np.float64(0.0118), np.float64(-0.0118)]\n",
            "Feature 13 contributions per class: [np.float64(0.0026), np.float64(-0.0026)]\n",
            "Feature 14 contributions per class: [np.float64(0.0966), np.float64(-0.0966)]\n"
          ]
        }
      ]
    },
    {
      "cell_type": "code",
      "source": [
        "from sklearn.inspection import PartialDependenceDisplay\n",
        "import matplotlib.pyplot as plt"
      ],
      "metadata": {
        "id": "b11nExRpRhKn"
      },
      "execution_count": null,
      "outputs": []
    },
    {
      "cell_type": "code",
      "source": [
        "!pip install lime"
      ],
      "metadata": {
        "id": "O0EasI7szGAn",
        "colab": {
          "base_uri": "https://localhost:8080/"
        },
        "outputId": "24baa9dd-60fd-4781-cc86-1adbe5cb54c8"
      },
      "execution_count": null,
      "outputs": [
        {
          "output_type": "stream",
          "name": "stdout",
          "text": [
            "Collecting lime\n",
            "  Downloading lime-0.2.0.1.tar.gz (275 kB)\n",
            "\u001b[?25l     \u001b[90m━━━━━━━━━━━━━━━━━━━━━━━━━━━━━━━━━━━━━━━━\u001b[0m \u001b[32m0.0/275.7 kB\u001b[0m \u001b[31m?\u001b[0m eta \u001b[36m-:--:--\u001b[0m\r\u001b[2K     \u001b[90m━━━━━━━━━━━━━━━━━━━━━━━━━━━━━━━━━━━━━━\u001b[0m \u001b[32m275.7/275.7 kB\u001b[0m \u001b[31m15.1 MB/s\u001b[0m eta \u001b[36m0:00:00\u001b[0m\n",
            "\u001b[?25h  Preparing metadata (setup.py) ... \u001b[?25l\u001b[?25hdone\n",
            "Requirement already satisfied: matplotlib in /usr/local/lib/python3.11/dist-packages (from lime) (3.10.0)\n",
            "Requirement already satisfied: numpy in /usr/local/lib/python3.11/dist-packages (from lime) (2.0.2)\n",
            "Requirement already satisfied: scipy in /usr/local/lib/python3.11/dist-packages (from lime) (1.15.3)\n",
            "Requirement already satisfied: tqdm in /usr/local/lib/python3.11/dist-packages (from lime) (4.67.1)\n",
            "Requirement already satisfied: scikit-learn>=0.18 in /usr/local/lib/python3.11/dist-packages (from lime) (1.6.1)\n",
            "Requirement already satisfied: scikit-image>=0.12 in /usr/local/lib/python3.11/dist-packages (from lime) (0.25.2)\n",
            "Requirement already satisfied: networkx>=3.0 in /usr/local/lib/python3.11/dist-packages (from scikit-image>=0.12->lime) (3.5)\n",
            "Requirement already satisfied: pillow>=10.1 in /usr/local/lib/python3.11/dist-packages (from scikit-image>=0.12->lime) (11.2.1)\n",
            "Requirement already satisfied: imageio!=2.35.0,>=2.33 in /usr/local/lib/python3.11/dist-packages (from scikit-image>=0.12->lime) (2.37.0)\n",
            "Requirement already satisfied: tifffile>=2022.8.12 in /usr/local/lib/python3.11/dist-packages (from scikit-image>=0.12->lime) (2025.6.1)\n",
            "Requirement already satisfied: packaging>=21 in /usr/local/lib/python3.11/dist-packages (from scikit-image>=0.12->lime) (24.2)\n",
            "Requirement already satisfied: lazy-loader>=0.4 in /usr/local/lib/python3.11/dist-packages (from scikit-image>=0.12->lime) (0.4)\n",
            "Requirement already satisfied: joblib>=1.2.0 in /usr/local/lib/python3.11/dist-packages (from scikit-learn>=0.18->lime) (1.5.1)\n",
            "Requirement already satisfied: threadpoolctl>=3.1.0 in /usr/local/lib/python3.11/dist-packages (from scikit-learn>=0.18->lime) (3.6.0)\n",
            "Requirement already satisfied: contourpy>=1.0.1 in /usr/local/lib/python3.11/dist-packages (from matplotlib->lime) (1.3.2)\n",
            "Requirement already satisfied: cycler>=0.10 in /usr/local/lib/python3.11/dist-packages (from matplotlib->lime) (0.12.1)\n",
            "Requirement already satisfied: fonttools>=4.22.0 in /usr/local/lib/python3.11/dist-packages (from matplotlib->lime) (4.58.1)\n",
            "Requirement already satisfied: kiwisolver>=1.3.1 in /usr/local/lib/python3.11/dist-packages (from matplotlib->lime) (1.4.8)\n",
            "Requirement already satisfied: pyparsing>=2.3.1 in /usr/local/lib/python3.11/dist-packages (from matplotlib->lime) (3.2.3)\n",
            "Requirement already satisfied: python-dateutil>=2.7 in /usr/local/lib/python3.11/dist-packages (from matplotlib->lime) (2.9.0.post0)\n",
            "Requirement already satisfied: six>=1.5 in /usr/local/lib/python3.11/dist-packages (from python-dateutil>=2.7->matplotlib->lime) (1.17.0)\n",
            "Building wheels for collected packages: lime\n",
            "  Building wheel for lime (setup.py) ... \u001b[?25l\u001b[?25hdone\n",
            "  Created wheel for lime: filename=lime-0.2.0.1-py3-none-any.whl size=283834 sha256=aa5d1498bfdbb7e440a4bd9eaf30c3d8e19473df3ab0201acbab12e5842738c2\n",
            "  Stored in directory: /root/.cache/pip/wheels/85/fa/a3/9c2d44c9f3cd77cf4e533b58900b2bf4487f2a17e8ec212a3d\n",
            "Successfully built lime\n",
            "Installing collected packages: lime\n",
            "Successfully installed lime-0.2.0.1\n"
          ]
        }
      ]
    },
    {
      "cell_type": "code",
      "source": [
        "import lime\n",
        "import lime.lime_tabular"
      ],
      "metadata": {
        "id": "1eX1SLtazyGh"
      },
      "execution_count": null,
      "outputs": []
    },
    {
      "cell_type": "code",
      "source": [
        "# If you used NumPy arrays, convert to DataFrame for feature names\n",
        "if isinstance(X_train, np.ndarray):\n",
        "    feature_names = df2.dropna(axis=1).columns[:-1]  # Exclude target column\n",
        "    X_train_df = pd.DataFrame(X_train, columns=feature_names)\n",
        "    X_test_df = pd.DataFrame(X_test, columns=feature_names)\n",
        "else:\n",
        "    feature_names = X_train.columns\n",
        "    X_train_df = X_train\n",
        "    X_test_df = X_test\n",
        "\n",
        "# Initialize LIME explainer\n",
        "explainer = lime.lime_tabular.LimeTabularExplainer(\n",
        "    training_data=X_train_df.values,\n",
        "    feature_names=feature_names,\n",
        "    class_names=['No Disease', 'Disease'],\n",
        "    mode='classification',\n",
        "    discretize_continuous=True\n",
        ")"
      ],
      "metadata": {
        "id": "o86A-pM0zyN2"
      },
      "execution_count": null,
      "outputs": []
    },
    {
      "cell_type": "code",
      "source": [
        "# Explain prediction for the first test instance\n",
        "i = 0\n",
        "exp_rf = explainer.explain_instance(\n",
        "    X_test_df.iloc[i].values,\n",
        "    best_rf_model.predict_proba,\n",
        "    num_features=len(feature_names)\n",
        ")\n",
        "\n",
        "# Show explanation\n",
        "print(\"\\n LIME Explanation (Random Forest):\")\n",
        "fig = exp_rf.as_pyplot_figure()\n",
        "plt.title(\"Random Forest LIME Explanation\")\n",
        "plt.tight_layout()\n",
        "plt.show()"
      ],
      "metadata": {
        "id": "0KPNjiZC0GO2",
        "colab": {
          "base_uri": "https://localhost:8080/",
          "height": 524
        },
        "outputId": "f0a901ae-108e-4c6f-f38b-d35f0efc8f52"
      },
      "execution_count": null,
      "outputs": [
        {
          "output_type": "stream",
          "name": "stdout",
          "text": [
            "\n",
            " LIME Explanation (Random Forest):\n"
          ]
        },
        {
          "output_type": "display_data",
          "data": {
            "text/plain": [
              "<Figure size 640x480 with 1 Axes>"
            ],
            "image/png": "[encoded data removed]"
          },
          "metadata": {}
        }
      ]
    },
    {
      "cell_type": "code",
      "source": [],
      "metadata": {
        "id": "HM8AgoDk87xq"
      },
      "execution_count": null,
      "outputs": []
    },
    {
      "cell_type": "code",
      "source": [],
      "metadata": {
        "id": "irGCxZjY87-w"
      },
      "execution_count": null,
      "outputs": []
    }
  ]
}