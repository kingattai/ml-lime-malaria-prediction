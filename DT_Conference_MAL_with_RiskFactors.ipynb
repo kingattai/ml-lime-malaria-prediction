{
  "nbformat": 4,
  "nbformat_minor": 0,
  "metadata": {
    "colab": {
      "provenance": [],
      "authorship_tag": "ABX9TyOhLI4vhzptC1ZSb9e9njgU",
      "include_colab_link": true
    },
    "kernelspec": {
      "name": "python3",
      "display_name": "Python 3"
    },
    "language_info": {
      "name": "python"
    }
  },
  "cells": [
    {
      "cell_type": "markdown",
      "metadata": {
        "id": "view-in-github",
        "colab_type": "text"
      },
      "source": [
        "<a href=\"https://colab.research.google.com/github/kingattai/ml-lime-malaria-prediction/blob/main/DT_Conference_MAL_with_RiskFactors.ipynb\" target=\"_parent\"><img src=\"https://colab.research.google.com/assets/colab-badge.svg\" alt=\"Open In Colab\"/></a>"
      ]
    },
    {
      "cell_type": "code",
      "execution_count": null,
      "metadata": {
        "colab": {
          "base_uri": "https://localhost:8080/"
        },
        "id": "Cf82bju4ajJn",
        "outputId": "01542b51-0d39-4d05-8f69-8d12881c1ce2"
      },
      "outputs": [
        {
          "output_type": "stream",
          "name": "stdout",
          "text": [
            "Collecting treeinterpreter\n",
            "  Downloading treeinterpreter-0.2.3-py2.py3-none-any.whl.metadata (2.0 kB)\n",
            "Downloading treeinterpreter-0.2.3-py2.py3-none-any.whl (6.0 kB)\n",
            "Installing collected packages: treeinterpreter\n",
            "Successfully installed treeinterpreter-0.2.3\n"
          ]
        }
      ],
      "source": [
        "!pip install treeinterpreter"
      ]
    },
    {
      "cell_type": "code",
      "source": [
        "!pip install imbalanced-learn"
      ],
      "metadata": {
        "colab": {
          "base_uri": "https://localhost:8080/"
        },
        "id": "Nrsa7g21a1zv",
        "outputId": "4c72fa85-1063-43d4-c7cd-7a9696a18590"
      },
      "execution_count": null,
      "outputs": [
        {
          "output_type": "stream",
          "name": "stdout",
          "text": [
            "Requirement already satisfied: imbalanced-learn in /usr/local/lib/python3.11/dist-packages (0.13.0)\n",
            "Requirement already satisfied: numpy<3,>=1.24.3 in /usr/local/lib/python3.11/dist-packages (from imbalanced-learn) (2.0.2)\n",
            "Requirement already satisfied: scipy<2,>=1.10.1 in /usr/local/lib/python3.11/dist-packages (from imbalanced-learn) (1.15.3)\n",
            "Requirement already satisfied: scikit-learn<2,>=1.3.2 in /usr/local/lib/python3.11/dist-packages (from imbalanced-learn) (1.6.1)\n",
            "Requirement already satisfied: sklearn-compat<1,>=0.1 in /usr/local/lib/python3.11/dist-packages (from imbalanced-learn) (0.1.3)\n",
            "Requirement already satisfied: joblib<2,>=1.1.1 in /usr/local/lib/python3.11/dist-packages (from imbalanced-learn) (1.5.1)\n",
            "Requirement already satisfied: threadpoolctl<4,>=2.0.0 in /usr/local/lib/python3.11/dist-packages (from imbalanced-learn) (3.6.0)\n"
          ]
        }
      ]
    },
    {
      "cell_type": "code",
      "source": [
        "import pandas as pd\n",
        "import numpy as np\n",
        "import seaborn as sns\n",
        "import matplotlib.pyplot as plt\n",
        "\n",
        "from sklearn.model_selection import train_test_split, GridSearchCV\n",
        "from sklearn.tree import DecisionTreeClassifier\n",
        "from sklearn.metrics import (accuracy_score, precision_score, recall_score,\n",
        "                             f1_score, log_loss, classification_report,\n",
        "                             confusion_matrix, roc_auc_score)\n",
        "from sklearn.impute import SimpleImputer\n",
        "from imblearn.over_sampling import SMOTE\n",
        "from treeinterpreter import treeinterpreter as ti\n",
        "from sklearn.inspection import PartialDependenceDisplay"
      ],
      "metadata": {
        "id": "tZKiu1Wza13E"
      },
      "execution_count": null,
      "outputs": []
    },
    {
      "cell_type": "code",
      "source": [
        "# Mount Google Drive\n",
        "from google.colab import drive\n",
        "drive.mount('/content/drive')"
      ],
      "metadata": {
        "colab": {
          "base_uri": "https://localhost:8080/"
        },
        "id": "tINwJPGPa15_",
        "outputId": "73a0d5e1-9bdd-442d-fe0e-0ece2b87c52f"
      },
      "execution_count": null,
      "outputs": [
        {
          "output_type": "stream",
          "name": "stdout",
          "text": [
            "Mounted at /content/drive\n"
          ]
        }
      ]
    },
    {
      "cell_type": "code",
      "source": [
        "# 1. Load dataset\n",
        "df = pd.read_csv('/content/drive/My Drive/Colab Notebooks/NFRF ML/Mal_Data.csv')\n",
        "df2 = df.drop(df.columns[0], axis=1)  # Drop first index/ID column"
      ],
      "metadata": {
        "id": "OkUeJNuda19U"
      },
      "execution_count": null,
      "outputs": []
    },
    {
      "cell_type": "code",
      "source": [
        "# 3. Split into features and target\n",
        "X = df2.iloc[:, :-1].values\n",
        "y = df2.iloc[:, -1].values"
      ],
      "metadata": {
        "id": "gLLCWUQoa2Aa"
      },
      "execution_count": null,
      "outputs": []
    },
    {
      "cell_type": "code",
      "source": [
        "# 4. Train-test split\n",
        "X_train, X_test, y_train, y_test = train_test_split(X, y, test_size=0.2, random_state=42)"
      ],
      "metadata": {
        "id": "0EUqGv5aa2DF"
      },
      "execution_count": null,
      "outputs": []
    },
    {
      "cell_type": "code",
      "source": [
        "# Apply SMOTE\n",
        "smote = SMOTE(random_state=42)\n",
        "X_train_smote, y_train_smote = smote.fit_resample(X_train, y_train)\n",
        "print(\"Class distribution after SMOTE:\", np.bincount(y_train_smote))"
      ],
      "metadata": {
        "colab": {
          "base_uri": "https://localhost:8080/"
        },
        "id": "wLaZ52SEa2Ga",
        "outputId": "ce4beb64-e4e9-47db-cbc1-7e3e14bd0479"
      },
      "execution_count": null,
      "outputs": [
        {
          "output_type": "stream",
          "name": "stdout",
          "text": [
            "Class distribution after SMOTE: [2699 2699]\n"
          ]
        }
      ]
    },
    {
      "cell_type": "code",
      "source": [
        "dt = DecisionTreeClassifier(random_state=42)\n",
        "param_grid_dt = {'max_depth': [None, 10, 20]}\n",
        "grid_search_dt = GridSearchCV(dt, param_grid_dt, cv=5, scoring='accuracy', n_jobs=-1)\n",
        "grid_search_dt.fit(X_train_smote, y_train_smote)\n",
        "best_dt_model = grid_search_dt.best_estimator_"
      ],
      "metadata": {
        "id": "F8JYHutua2JL"
      },
      "execution_count": null,
      "outputs": []
    },
    {
      "cell_type": "code",
      "source": [
        "# Prediction and Evaluation\n",
        "y_pred_dt = best_dt_model.predict(X_test)\n",
        "y_prob_dt = best_dt_model.predict_proba(X_test)\n",
        "print(\"Best parameters:\", grid_search_dt.best_params_)\n",
        "print(\"\\nClassification Report:\\n\", classification_report(y_test, y_pred_dt))\n",
        "print(f\"Accuracy: {accuracy_score(y_test, y_pred_dt):.4f}\")\n",
        "print(f\"Precision: {precision_score(y_test, y_pred_dt, average='weighted'):.4f}\")\n",
        "print(f\"Recall: {recall_score(y_test, y_pred_dt, average='weighted'):.4f}\")\n",
        "print(f\"F1 Score: {f1_score(y_test, y_pred_dt, average='weighted'):.4f}\")\n",
        "print(f\"Log Loss: {log_loss(y_test, y_prob_dt):.4f}\")\n",
        "if len(np.unique(y_test)) == 2:\n",
        "    print(f\"AUC-ROC: {roc_auc_score(y_test, y_prob_dt[:, 1]):.4f}\")"
      ],
      "metadata": {
        "id": "k-CCJ1SXa2NF",
        "colab": {
          "base_uri": "https://localhost:8080/"
        },
        "outputId": "c3ede121-fb3a-4327-bbc0-2657cd8452aa"
      },
      "execution_count": null,
      "outputs": [
        {
          "output_type": "stream",
          "name": "stdout",
          "text": [
            "Best parameters: {'max_depth': 10}\n",
            "\n",
            "Classification Report:\n",
            "               precision    recall  f1-score   support\n",
            "\n",
            "           0       0.63      0.76      0.69       323\n",
            "           1       0.87      0.78      0.82       651\n",
            "\n",
            "    accuracy                           0.77       974\n",
            "   macro avg       0.75      0.77      0.75       974\n",
            "weighted avg       0.79      0.77      0.78       974\n",
            "\n",
            "Accuracy: 0.7721\n",
            "Precision: 0.7894\n",
            "Recall: 0.7721\n",
            "F1 Score: 0.7767\n",
            "Log Loss: 2.9540\n",
            "AUC-ROC: 0.7990\n"
          ]
        }
      ]
    },
    {
      "cell_type": "code",
      "source": [
        "# Confusion Matrix\n",
        "sns.heatmap(confusion_matrix(y_test, y_pred_dt), annot=True, fmt='d', cmap='Blues')\n",
        "plt.xlabel('Predicted'); plt.ylabel('Actual'); plt.title('Decision Tree Confusion Matrix')\n",
        "plt.show()"
      ],
      "metadata": {
        "id": "binW5rEYa2Pk",
        "colab": {
          "base_uri": "https://localhost:8080/",
          "height": 472
        },
        "outputId": "8e8846b4-9ccb-41e7-ec70-756283837fa7"
      },
      "execution_count": null,
      "outputs": [
        {
          "output_type": "display_data",
          "data": {
            "text/plain": [
              "<Figure size 640x480 with 2 Axes>"
            ],
            "image/png": "[encoded data removed]"
          },
          "metadata": {}
        }
      ]
    },
    {
      "cell_type": "code",
      "source": [
        "# TreeInterpreter\n",
        "instance = X_test[0:1]\n",
        "prediction, bias, contributions = ti.predict(best_dt_model, instance)\n",
        "print(\"\\n🌳 TreeInterpreter (Instance 0)\")\n",
        "print(f\"Prediction: {prediction[0]}\")\n",
        "print(f\"Bias: {bias[0]}\")\n",
        "for i, c in enumerate(contributions[0]):\n",
        "    print(f\"Feature {i} contributions per class: {[round(val, 4) for val in c]}\")"
      ],
      "metadata": {
        "id": "rkM-JvI0a2Tl",
        "colab": {
          "base_uri": "https://localhost:8080/"
        },
        "outputId": "42fde254-bde3-420e-b1ce-b96edb9d52f9"
      },
      "execution_count": null,
      "outputs": [
        {
          "output_type": "stream",
          "name": "stdout",
          "text": [
            "\n",
            "🌳 TreeInterpreter (Instance 0)\n",
            "Prediction: [0.92156863 0.07843137]\n",
            "Bias: [0.5 0.5]\n",
            "Feature 0 contributions per class: [np.float64(0.0378), np.float64(-0.0378)]\n",
            "Feature 1 contributions per class: [np.float64(0.0081), np.float64(-0.0081)]\n",
            "Feature 2 contributions per class: [np.float64(0.0), np.float64(0.0)]\n",
            "Feature 3 contributions per class: [np.float64(0.0275), np.float64(-0.0275)]\n",
            "Feature 4 contributions per class: [np.float64(0.3518), np.float64(-0.3518)]\n",
            "Feature 5 contributions per class: [np.float64(0.0144), np.float64(-0.0144)]\n",
            "Feature 6 contributions per class: [np.float64(0.0), np.float64(0.0)]\n",
            "Feature 7 contributions per class: [np.float64(-0.0203), np.float64(0.0203)]\n",
            "Feature 8 contributions per class: [np.float64(0.0), np.float64(0.0)]\n",
            "Feature 9 contributions per class: [np.float64(0.0169), np.float64(-0.0169)]\n",
            "Feature 10 contributions per class: [np.float64(0.0), np.float64(0.0)]\n",
            "Feature 11 contributions per class: [np.float64(0.0), np.float64(0.0)]\n",
            "Feature 12 contributions per class: [np.float64(0.0), np.float64(0.0)]\n",
            "Feature 13 contributions per class: [np.float64(-0.0146), np.float64(0.0146)]\n",
            "Feature 14 contributions per class: [np.float64(0.0), np.float64(0.0)]\n"
          ]
        }
      ]
    },
    {
      "cell_type": "code",
      "source": [
        "# Use instance 0 from the test set\n",
        "instance = X_test[0:1]\n",
        "\n",
        "# Predict and get contributions\n",
        "prediction, bias, contributions = ti.predict(best_dt_model, instance)\n",
        "\n",
        "# Rank contributions by magnitude\n",
        "contrib_class = contributions[0][:, 1]  # For positive class (class 1)\n",
        "sorted_idx = np.argsort(np.abs(contrib_class))[::-1]\n",
        "\n",
        "print(\"\\n Top Contributing Features for Class 1 Prediction:\")\n",
        "for idx in sorted_idx:\n",
        "    print(f\"Feature {idx} contribution: {contrib_class[idx]:.4f}\")"
      ],
      "metadata": {
        "id": "CwVWURG0a2gv",
        "colab": {
          "base_uri": "https://localhost:8080/"
        },
        "outputId": "daae0f40-a16e-46a5-e79c-0154d3634a6a"
      },
      "execution_count": null,
      "outputs": [
        {
          "output_type": "stream",
          "name": "stdout",
          "text": [
            "\n",
            " Top Contributing Features for Class 1 Prediction:\n",
            "Feature 4 contribution: -0.3518\n",
            "Feature 0 contribution: -0.0378\n",
            "Feature 3 contribution: -0.0275\n",
            "Feature 7 contribution: 0.0203\n",
            "Feature 9 contribution: -0.0169\n",
            "Feature 13 contribution: 0.0146\n",
            "Feature 5 contribution: -0.0144\n",
            "Feature 1 contribution: -0.0081\n",
            "Feature 8 contribution: 0.0000\n",
            "Feature 11 contribution: 0.0000\n",
            "Feature 12 contribution: 0.0000\n",
            "Feature 14 contribution: 0.0000\n",
            "Feature 10 contribution: 0.0000\n",
            "Feature 6 contribution: 0.0000\n",
            "Feature 2 contribution: 0.0000\n"
          ]
        }
      ]
    },
    {
      "cell_type": "code",
      "source": [
        "!pip install lime"
      ],
      "metadata": {
        "id": "sVKpAy95zRXt",
        "colab": {
          "base_uri": "https://localhost:8080/"
        },
        "outputId": "dfb0e0b2-cbca-4fdb-8755-d000856284ca"
      },
      "execution_count": null,
      "outputs": [
        {
          "output_type": "stream",
          "name": "stdout",
          "text": [
            "Collecting lime\n",
            "  Downloading lime-0.2.0.1.tar.gz (275 kB)\n",
            "\u001b[2K     \u001b[90m━━━━━━━━━━━━━━━━━━━━━━━━━━━━━━━━━━━━━━━\u001b[0m \u001b[32m275.7/275.7 kB\u001b[0m \u001b[31m5.1 MB/s\u001b[0m eta \u001b[36m0:00:00\u001b[0m\n",
            "\u001b[?25h  Preparing metadata (setup.py) ... \u001b[?25l\u001b[?25hdone\n",
            "Requirement already satisfied: matplotlib in /usr/local/lib/python3.11/dist-packages (from lime) (3.10.0)\n",
            "Requirement already satisfied: numpy in /usr/local/lib/python3.11/dist-packages (from lime) (2.0.2)\n",
            "Requirement already satisfied: scipy in /usr/local/lib/python3.11/dist-packages (from lime) (1.15.3)\n",
            "Requirement already satisfied: tqdm in /usr/local/lib/python3.11/dist-packages (from lime) (4.67.1)\n",
            "Requirement already satisfied: scikit-learn>=0.18 in /usr/local/lib/python3.11/dist-packages (from lime) (1.6.1)\n",
            "Requirement already satisfied: scikit-image>=0.12 in /usr/local/lib/python3.11/dist-packages (from lime) (0.25.2)\n",
            "Requirement already satisfied: networkx>=3.0 in /usr/local/lib/python3.11/dist-packages (from scikit-image>=0.12->lime) (3.5)\n",
            "Requirement already satisfied: pillow>=10.1 in /usr/local/lib/python3.11/dist-packages (from scikit-image>=0.12->lime) (11.2.1)\n",
            "Requirement already satisfied: imageio!=2.35.0,>=2.33 in /usr/local/lib/python3.11/dist-packages (from scikit-image>=0.12->lime) (2.37.0)\n",
            "Requirement already satisfied: tifffile>=2022.8.12 in /usr/local/lib/python3.11/dist-packages (from scikit-image>=0.12->lime) (2025.6.1)\n",
            "Requirement already satisfied: packaging>=21 in /usr/local/lib/python3.11/dist-packages (from scikit-image>=0.12->lime) (24.2)\n",
            "Requirement already satisfied: lazy-loader>=0.4 in /usr/local/lib/python3.11/dist-packages (from scikit-image>=0.12->lime) (0.4)\n",
            "Requirement already satisfied: joblib>=1.2.0 in /usr/local/lib/python3.11/dist-packages (from scikit-learn>=0.18->lime) (1.5.1)\n",
            "Requirement already satisfied: threadpoolctl>=3.1.0 in /usr/local/lib/python3.11/dist-packages (from scikit-learn>=0.18->lime) (3.6.0)\n",
            "Requirement already satisfied: contourpy>=1.0.1 in /usr/local/lib/python3.11/dist-packages (from matplotlib->lime) (1.3.2)\n",
            "Requirement already satisfied: cycler>=0.10 in /usr/local/lib/python3.11/dist-packages (from matplotlib->lime) (0.12.1)\n",
            "Requirement already satisfied: fonttools>=4.22.0 in /usr/local/lib/python3.11/dist-packages (from matplotlib->lime) (4.58.1)\n",
            "Requirement already satisfied: kiwisolver>=1.3.1 in /usr/local/lib/python3.11/dist-packages (from matplotlib->lime) (1.4.8)\n",
            "Requirement already satisfied: pyparsing>=2.3.1 in /usr/local/lib/python3.11/dist-packages (from matplotlib->lime) (3.2.3)\n",
            "Requirement already satisfied: python-dateutil>=2.7 in /usr/local/lib/python3.11/dist-packages (from matplotlib->lime) (2.9.0.post0)\n",
            "Requirement already satisfied: six>=1.5 in /usr/local/lib/python3.11/dist-packages (from python-dateutil>=2.7->matplotlib->lime) (1.17.0)\n",
            "Building wheels for collected packages: lime\n",
            "  Building wheel for lime (setup.py) ... \u001b[?25l\u001b[?25hdone\n",
            "  Created wheel for lime: filename=lime-0.2.0.1-py3-none-any.whl size=283834 sha256=233b0915904b7cd63b3614f8dc5cd04518bd3b61e670f1491d9f26227eabd87d\n",
            "  Stored in directory: /root/.cache/pip/wheels/85/fa/a3/9c2d44c9f3cd77cf4e533b58900b2bf4487f2a17e8ec212a3d\n",
            "Successfully built lime\n",
            "Installing collected packages: lime\n",
            "Successfully installed lime-0.2.0.1\n"
          ]
        }
      ]
    },
    {
      "cell_type": "code",
      "source": [
        "import lime\n",
        "import lime.lime_tabular"
      ],
      "metadata": {
        "id": "Bn6QjAuqz5mj"
      },
      "execution_count": null,
      "outputs": []
    },
    {
      "cell_type": "code",
      "source": [
        "# If you used NumPy arrays, convert to DataFrame for feature names\n",
        "if isinstance(X_train, np.ndarray):\n",
        "    feature_names = df2.dropna(axis=1).columns[:-1]  # Exclude target column\n",
        "    X_train_df = pd.DataFrame(X_train, columns=feature_names)\n",
        "    X_test_df = pd.DataFrame(X_test, columns=feature_names)\n",
        "else:\n",
        "    feature_names = X_train.columns\n",
        "    X_train_df = X_train\n",
        "    X_test_df = X_test\n",
        "\n",
        "# Initialize LIME explainer\n",
        "explainer = lime.lime_tabular.LimeTabularExplainer(\n",
        "    training_data=X_train_df.values,\n",
        "    feature_names=feature_names,\n",
        "    class_names=['No Disease', 'Disease'],\n",
        "    mode='classification',\n",
        "    discretize_continuous=True\n",
        ")"
      ],
      "metadata": {
        "id": "EoD8Jwjxz6di"
      },
      "execution_count": null,
      "outputs": []
    },
    {
      "cell_type": "code",
      "source": [
        "# Explain prediction for the first test instance\n",
        "i = 0\n",
        "exp_dt = explainer.explain_instance(\n",
        "    X_test_df.iloc[i].values,\n",
        "    best_dt_model.predict_proba,  # assuming you did grid search or fitted as best_dt_model\n",
        "    num_features=len(feature_names)\n",
        ")\n",
        "\n",
        "# Show explanation\n",
        "print(\"\\n LIME Explanation (Decision Tree):\")\n",
        "fig = exp_dt.as_pyplot_figure()\n",
        "plt.title(\"Decision Tree LIME Explanation\")\n",
        "plt.tight_layout()\n",
        "plt.show()"
      ],
      "metadata": {
        "id": "C38ER-LQ0Iv5",
        "colab": {
          "base_uri": "https://localhost:8080/",
          "height": 524
        },
        "outputId": "6452821b-7e51-450a-b648-b34a6b3759ea"
      },
      "execution_count": null,
      "outputs": [
        {
          "output_type": "stream",
          "name": "stdout",
          "text": [
            "\n",
            " LIME Explanation (Decision Tree):\n"
          ]
        },
        {
          "output_type": "display_data",
          "data": {
            "text/plain": [
              "<Figure size 640x480 with 1 Axes>"
            ],
            "image/png": "[encoded data removed]"
          },
          "metadata": {}
        }
      ]
    }
  ]
}